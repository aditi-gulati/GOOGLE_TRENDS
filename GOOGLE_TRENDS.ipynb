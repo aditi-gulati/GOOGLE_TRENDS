{
 "cells": [
  {
   "cell_type": "markdown",
   "id": "3f5a282c",
   "metadata": {},
   "source": [
    "## FETCHING TOP 10 NEWS USING NEWS API\n",
    "News API is a simple JSON-based REST API for searching and retrieving news articles from all over the web. Using this, one can fetch the top stories running on a news website or can search top news on a specific topic (or keyword)."
   ]
  },
  {
   "cell_type": "code",
   "execution_count": 30,
   "id": "75b8d4ab",
   "metadata": {},
   "outputs": [
    {
     "name": "stdout",
     "output_type": "stream",
     "text": [
      "1 Tonga undersea cable needs 'at least' four weeks to repair: NZ\n",
      "2 Covid: WHO warns pandemic not over amid Europe case records\n",
      "3 Ukraine: Blinken flies to Europe amid Russia invasion fears\n",
      "4 Joe Biden: Scoring the US president's first year in office\n",
      "5 Fanta Bility: US officers charged with fatally shooting girl\n",
      "6 'World's most valuable house' - which no one wanted to buy\n",
      "7 Ingrid Betancourt: Former Farc captive announces presidential bid\n",
      "8 AT&T agrees another 5G delay at US airports\n",
      "9 Man arrested after Australian child found dead in barrel\n",
      "10 US Capitol riot committee issues subpoena to Rudy Giuliani\n"
     ]
    }
   ],
   "source": [
    "# importing requests package\n",
    "import requests    \n",
    " \n",
    "def NewsFromBBC():\n",
    "     \n",
    "    # BBC news api\n",
    "    # following query parameters are used\n",
    "    # source, sortBy and apiKey\n",
    "    query_params = {\n",
    "      \"source\": \"bbc-news\",\n",
    "      \"sortBy\": \"top\",\n",
    "      \"apiKey\": \"4dbc17e007ab436fb66416009dfb59a8\"\n",
    "    }\n",
    "    main_url = \" https://newsapi.org/v1/articles\"\n",
    " \n",
    "    # fetching data in json format\n",
    "    res = requests.get(main_url, params=query_params)\n",
    "    open_bbc_page = res.json()\n",
    " \n",
    "    # getting all articles in a string article\n",
    "    article = open_bbc_page[\"articles\"]\n",
    " \n",
    "    # empty list which will\n",
    "    # contain all trending news\n",
    "    results = []\n",
    "     \n",
    "    for ar in article:\n",
    "        results.append(ar[\"title\"])\n",
    "         \n",
    "    for i in range(len(results)):\n",
    "         \n",
    "        # printing all trending news\n",
    "        print(i + 1, results[i])\n",
    " \n",
    "    #to read the news out loud for us\n",
    "    from win32com.client import Dispatch\n",
    "    speak = Dispatch(\"SAPI.Spvoice\")\n",
    "    speak.Speak(results)                \n",
    " \n",
    "# Driver Code\n",
    "if __name__ == '__main__':\n",
    "     \n",
    "    # function call\n",
    "    NewsFromBBC()"
   ]
  },
  {
   "cell_type": "markdown",
   "id": "f1a9e8e4",
   "metadata": {},
   "source": [
    "## TRENDING SEARCHES FOR SPECIFIED COUNTRY.\n",
    "In this project we will Easily Gather Google Trends Data \n",
    "Understanding search terms by users on search engines such as Google can provide insights and information for a wide variety of users. Whether looking for new trends, understanding search results, to keywords analysis, Google Trends is a free and useful source for anyone. We will be gathering Google Trends data using an API in Python. <br/>\n",
    "\n",
    "We’ll begin by installing the required package.<br/>"
   ]
  },
  {
   "cell_type": "code",
   "execution_count": 4,
   "id": "b1652a9e",
   "metadata": {},
   "outputs": [
    {
     "name": "stdout",
     "output_type": "stream",
     "text": [
      "Requirement already satisfied: pytrends in c:\\users\\aditi gulati\\appdata\\local\\programs\\python\\python38\\lib\\site-packages (4.7.3)\n",
      "Requirement already satisfied: lxml in c:\\users\\aditi gulati\\appdata\\local\\programs\\python\\python38\\lib\\site-packages (from pytrends) (4.7.1)\n",
      "Requirement already satisfied: pandas>=0.25 in c:\\users\\aditi gulati\\appdata\\local\\programs\\python\\python38\\lib\\site-packages (from pytrends) (1.3.5)\n",
      "Requirement already satisfied: requests in c:\\users\\aditi gulati\\appdata\\local\\programs\\python\\python38\\lib\\site-packages (from pytrends) (2.27.1)\n",
      "Requirement already satisfied: python-dateutil>=2.7.3 in c:\\users\\aditi gulati\\appdata\\local\\programs\\python\\python38\\lib\\site-packages (from pandas>=0.25->pytrends) (2.8.2)\n",
      "Requirement already satisfied: pytz>=2017.3 in c:\\users\\aditi gulati\\appdata\\local\\programs\\python\\python38\\lib\\site-packages (from pandas>=0.25->pytrends) (2021.3)\n",
      "Requirement already satisfied: numpy>=1.17.3; platform_machine != \"aarch64\" and platform_machine != \"arm64\" and python_version < \"3.10\" in c:\\users\\aditi gulati\\appdata\\local\\programs\\python\\python38\\lib\\site-packages (from pandas>=0.25->pytrends) (1.22.1)\n",
      "Requirement already satisfied: urllib3<1.27,>=1.21.1 in c:\\users\\aditi gulati\\appdata\\local\\programs\\python\\python38\\lib\\site-packages (from requests->pytrends) (1.26.8)\n",
      "Requirement already satisfied: charset-normalizer~=2.0.0; python_version >= \"3\" in c:\\users\\aditi gulati\\appdata\\local\\programs\\python\\python38\\lib\\site-packages (from requests->pytrends) (2.0.10)\n",
      "Requirement already satisfied: idna<4,>=2.5; python_version >= \"3\" in c:\\users\\aditi gulati\\appdata\\local\\programs\\python\\python38\\lib\\site-packages (from requests->pytrends) (2.10)\n",
      "Requirement already satisfied: certifi>=2017.4.17 in c:\\users\\aditi gulati\\appdata\\local\\programs\\python\\python38\\lib\\site-packages (from requests->pytrends) (2021.10.8)\n",
      "Requirement already satisfied: six>=1.5 in c:\\users\\aditi gulati\\appdata\\local\\programs\\python\\python38\\lib\\site-packages (from python-dateutil>=2.7.3->pandas>=0.25->pytrends) (1.16.0)\n",
      "Note: you may need to restart the kernel to use updated packages.\n"
     ]
    },
    {
     "name": "stderr",
     "output_type": "stream",
     "text": [
      "WARNING: You are using pip version 20.1.1; however, version 21.3.1 is available.\n",
      "You should consider upgrading via the 'c:\\users\\aditi gulati\\appdata\\local\\programs\\python\\python38\\python.exe -m pip install --upgrade pip' command.\n"
     ]
    }
   ],
   "source": [
    "pip install pytrends"
   ]
  },
  {
   "cell_type": "markdown",
   "id": "727545d6",
   "metadata": {},
   "source": [
    "After installation, we can proceed with the connection to Google Trends.\n",
    "Where:\n",
    "\n",
    "1. hl: represents the host language, US English in this case.\n",
    "\n",
    "2. tz: represents the timezone (Google uses minutes to represent timezones worldwide. Remember to exclude the negative values for the timezone minutes. In this example, US CST has a timezone value of 360 even though it has a value of -360 from the list).\n",
    "\n",
    "3. A timeout value of between 5 to 10 seconds is defined if the server is not responding promptly.\n",
    "\n",
    "4. pn: represents the country we want to gather the trending searches from."
   ]
  },
  {
   "cell_type": "code",
   "execution_count": 5,
   "id": "ba84be98",
   "metadata": {},
   "outputs": [],
   "source": [
    "from pytrends.request import TrendReq\n",
    "\n",
    "pytrends = TrendReq(hl='en-US', tz=360, timeout=(5,10))"
   ]
  },
  {
   "cell_type": "code",
   "execution_count": 7,
   "id": "89174761",
   "metadata": {},
   "outputs": [
    {
     "name": "stdout",
     "output_type": "stream",
     "text": [
      "Enter Country : canada\n"
     ]
    },
    {
     "data": {
      "text/html": [
       "<div>\n",
       "<style scoped>\n",
       "    .dataframe tbody tr th:only-of-type {\n",
       "        vertical-align: middle;\n",
       "    }\n",
       "\n",
       "    .dataframe tbody tr th {\n",
       "        vertical-align: top;\n",
       "    }\n",
       "\n",
       "    .dataframe thead th {\n",
       "        text-align: right;\n",
       "    }\n",
       "</style>\n",
       "<table border=\"1\" class=\"dataframe\">\n",
       "  <thead>\n",
       "    <tr style=\"text-align: right;\">\n",
       "      <th></th>\n",
       "      <th>Trending Searches For canada</th>\n",
       "    </tr>\n",
       "  </thead>\n",
       "  <tbody>\n",
       "    <tr>\n",
       "      <th>0</th>\n",
       "      <td>Denis Shapovalov</td>\n",
       "    </tr>\n",
       "    <tr>\n",
       "      <th>1</th>\n",
       "      <td>Calgary Flames</td>\n",
       "    </tr>\n",
       "    <tr>\n",
       "      <th>2</th>\n",
       "      <td>Pistons vs Warriors</td>\n",
       "    </tr>\n",
       "    <tr>\n",
       "      <th>3</th>\n",
       "      <td>Malik McDowell</td>\n",
       "    </tr>\n",
       "    <tr>\n",
       "      <th>4</th>\n",
       "      <td>Australian Open Results</td>\n",
       "    </tr>\n",
       "    <tr>\n",
       "      <th>5</th>\n",
       "      <td>Karim Ouellet</td>\n",
       "    </tr>\n",
       "    <tr>\n",
       "      <th>6</th>\n",
       "      <td>Jim Matheson</td>\n",
       "    </tr>\n",
       "    <tr>\n",
       "      <th>7</th>\n",
       "      <td>When We Were Young Festival</td>\n",
       "    </tr>\n",
       "    <tr>\n",
       "      <th>8</th>\n",
       "      <td>Lakers</td>\n",
       "    </tr>\n",
       "    <tr>\n",
       "      <th>9</th>\n",
       "      <td>Fernandez</td>\n",
       "    </tr>\n",
       "    <tr>\n",
       "      <th>10</th>\n",
       "      <td>Vaccin COVID</td>\n",
       "    </tr>\n",
       "    <tr>\n",
       "      <th>11</th>\n",
       "      <td>How I Met Your Father</td>\n",
       "    </tr>\n",
       "    <tr>\n",
       "      <th>12</th>\n",
       "      <td>Asteroids Earth NASA</td>\n",
       "    </tr>\n",
       "    <tr>\n",
       "      <th>13</th>\n",
       "      <td>Chelsea</td>\n",
       "    </tr>\n",
       "    <tr>\n",
       "      <th>14</th>\n",
       "      <td>Willie O'Ree</td>\n",
       "    </tr>\n",
       "    <tr>\n",
       "      <th>15</th>\n",
       "      <td>Michael B. Jordan</td>\n",
       "    </tr>\n",
       "    <tr>\n",
       "      <th>16</th>\n",
       "      <td>Andre Leon Talley</td>\n",
       "    </tr>\n",
       "    <tr>\n",
       "      <th>17</th>\n",
       "      <td>Winnipeg Jets</td>\n",
       "    </tr>\n",
       "    <tr>\n",
       "      <th>18</th>\n",
       "      <td>MSFT Stock</td>\n",
       "    </tr>\n",
       "    <tr>\n",
       "      <th>19</th>\n",
       "      <td>Pokimane</td>\n",
       "    </tr>\n",
       "  </tbody>\n",
       "</table>\n",
       "</div>"
      ],
      "text/plain": [
       "   Trending Searches For canada\n",
       "0              Denis Shapovalov\n",
       "1                Calgary Flames\n",
       "2           Pistons vs Warriors\n",
       "3                Malik McDowell\n",
       "4       Australian Open Results\n",
       "5                 Karim Ouellet\n",
       "6                  Jim Matheson\n",
       "7   When We Were Young Festival\n",
       "8                        Lakers\n",
       "9                     Fernandez\n",
       "10                 Vaccin COVID\n",
       "11        How I Met Your Father\n",
       "12         Asteroids Earth NASA\n",
       "13                      Chelsea\n",
       "14                 Willie O'Ree\n",
       "15            Michael B. Jordan\n",
       "16            Andre Leon Talley\n",
       "17                Winnipeg Jets\n",
       "18                   MSFT Stock\n",
       "19                     Pokimane"
      ]
     },
     "execution_count": 7,
     "metadata": {},
     "output_type": "execute_result"
    }
   ],
   "source": [
    "pn=input('Enter Country : ')\n",
    "trending_searches = pytrends.trending_searches(pn)\n",
    "trending_searches = trending_searches.rename(columns={0: \"Trending Searches For \" + pn})\n",
    "\n",
    "#to read the trends out loud for us\n",
    "from win32com.client import Dispatch\n",
    "speak = Dispatch(\"SAPI.Spvoice\")\n",
    "speak.Speak(trending_searches)\n",
    "\n",
    "trending_searches.head(20)"
   ]
  },
  {
   "cell_type": "code",
   "execution_count": null,
   "id": "6127649e",
   "metadata": {},
   "outputs": [],
   "source": []
  },
  {
   "cell_type": "code",
   "execution_count": null,
   "id": "4db9fad2",
   "metadata": {},
   "outputs": [],
   "source": []
  }
 ],
 "metadata": {
  "kernelspec": {
   "display_name": "Python 3 (ipykernel)",
   "language": "python",
   "name": "python3"
  },
  "language_info": {
   "codemirror_mode": {
    "name": "ipython",
    "version": 3
   },
   "file_extension": ".py",
   "mimetype": "text/x-python",
   "name": "python",
   "nbconvert_exporter": "python",
   "pygments_lexer": "ipython3",
   "version": "3.8.5"
  }
 },
 "nbformat": 4,
 "nbformat_minor": 5
}
